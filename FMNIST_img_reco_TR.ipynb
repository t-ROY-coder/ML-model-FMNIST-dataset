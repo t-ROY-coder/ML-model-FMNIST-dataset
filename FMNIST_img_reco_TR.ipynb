{
  "nbformat": 4,
  "nbformat_minor": 0,
  "metadata": {
    "colab": {
      "name": "FMNIST img_reco_TR.ipynb",
      "provenance": [],
      "collapsed_sections": [
        "60WTCVwRWru3",
        "IB9phhwAXB3-",
        "YK8z76FCXsu0",
        "uieAzUEtaWNU",
        "KlkUciJLa5wN",
        "7XJgi0Vlgjev",
        "Aw9TtTgxks9X",
        "peBJ18bxmjK2"
      ],
      "authorship_tag": "ABX9TyMjc5Isu4zqpLQmyLDjwDC8",
      "include_colab_link": true
    },
    "kernelspec": {
      "name": "python3",
      "display_name": "Python 3"
    }
  },
  "cells": [
    {
      "cell_type": "markdown",
      "metadata": {
        "id": "view-in-github",
        "colab_type": "text"
      },
      "source": [
        "<a href=\"https://colab.research.google.com/github/t-ROY-coder/ML-model-FMNIST-dataset/blob/master/FMNIST_img_reco_TR.ipynb\" target=\"_parent\"><img src=\"https://colab.research.google.com/assets/colab-badge.svg\" alt=\"Open In Colab\"/></a>"
      ]
    },
    {
      "cell_type": "markdown",
      "metadata": {
        "id": "60WTCVwRWru3",
        "colab_type": "text"
      },
      "source": [
        "# Install **Tensorflow**"
      ]
    },
    {
      "cell_type": "code",
      "metadata": {
        "id": "racXImvrWw28",
        "colab_type": "code",
        "colab": {}
      },
      "source": [
        "!pip install tensorflow==2.0.0-beta1"
      ],
      "execution_count": 0,
      "outputs": []
    },
    {
      "cell_type": "markdown",
      "metadata": {
        "id": "IB9phhwAXB3-",
        "colab_type": "text"
      },
      "source": [
        "# Import **Libraries**"
      ]
    },
    {
      "cell_type": "code",
      "metadata": {
        "id": "0DbgQJN0XFLE",
        "colab_type": "code",
        "colab": {}
      },
      "source": [
        "import tensorflow as tf\n",
        "from tensorflow import keras\n",
        "\n",
        "import numpy as np\n",
        "import matplotlib.pyplot as plt\n",
        "\n",
        "print(tf.__version__)"
      ],
      "execution_count": 0,
      "outputs": []
    },
    {
      "cell_type": "markdown",
      "metadata": {
        "id": "YK8z76FCXsu0",
        "colab_type": "text"
      },
      "source": [
        "# Import **FMNIST** **Dataset**"
      ]
    },
    {
      "cell_type": "code",
      "metadata": {
        "id": "6alwCmgaYAf8",
        "colab_type": "code",
        "colab": {}
      },
      "source": [
        "fmnist = keras.datasets.fashion_mnist\n",
        "(train_images, train_labels), (test_images, test_labels) = fmnist.load_data()"
      ],
      "execution_count": 0,
      "outputs": []
    },
    {
      "cell_type": "code",
      "metadata": {
        "id": "FYwcIiI3ZaBO",
        "colab_type": "code",
        "colab": {}
      },
      "source": [
        "class_names = ['T-shirt/Top', 'Trouser', 'Pullover', 'Dress', 'Coat', 'Sandal', 'Shirt', 'Sneaker', 'Bag', 'Ankle boot']"
      ],
      "execution_count": 0,
      "outputs": []
    },
    {
      "cell_type": "markdown",
      "metadata": {
        "id": "uieAzUEtaWNU",
        "colab_type": "text"
      },
      "source": [
        "# Explore **Data**"
      ]
    },
    {
      "cell_type": "code",
      "metadata": {
        "id": "-z97MUlvaYmL",
        "colab_type": "code",
        "colab": {}
      },
      "source": [
        "train_images.shape"
      ],
      "execution_count": 0,
      "outputs": []
    },
    {
      "cell_type": "code",
      "metadata": {
        "id": "3IUFBUADaiZZ",
        "colab_type": "code",
        "colab": {}
      },
      "source": [
        "len(train_labels)"
      ],
      "execution_count": 0,
      "outputs": []
    },
    {
      "cell_type": "code",
      "metadata": {
        "id": "m0nA8PUIareh",
        "colab_type": "code",
        "colab": {}
      },
      "source": [
        "test_images.shape[0]==len(test_labels)"
      ],
      "execution_count": 0,
      "outputs": []
    },
    {
      "cell_type": "markdown",
      "metadata": {
        "id": "5qlTpDysb1EE",
        "colab_type": "text"
      },
      "source": [
        "Show **Image**"
      ]
    },
    {
      "cell_type": "code",
      "metadata": {
        "id": "uWKkXbmGa7vh",
        "colab_type": "code",
        "colab": {}
      },
      "source": [
        "plt.figure()\n",
        "plt.imshow(train_images[0])\n",
        "plt.colorbar()\n",
        "plt.grid(False)\n",
        "plt.show()"
      ],
      "execution_count": 0,
      "outputs": []
    },
    {
      "cell_type": "markdown",
      "metadata": {
        "id": "KlkUciJLa5wN",
        "colab_type": "text"
      },
      "source": [
        "# Preprocess **Data**"
      ]
    },
    {
      "cell_type": "markdown",
      "metadata": {
        "id": "iymuZt32f--6",
        "colab_type": "text"
      },
      "source": [
        "**Normalization**"
      ]
    },
    {
      "cell_type": "code",
      "metadata": {
        "id": "kKOmddu6bwlq",
        "colab_type": "code",
        "colab": {}
      },
      "source": [
        "train_images = train_images/255.0\n",
        "test_images = test_images/255.0"
      ],
      "execution_count": 0,
      "outputs": []
    },
    {
      "cell_type": "markdown",
      "metadata": {
        "id": "7XJgi0Vlgjev",
        "colab_type": "text"
      },
      "source": [
        "# Build **Model**"
      ]
    },
    {
      "cell_type": "markdown",
      "metadata": {
        "id": "geF_DTFcjvUO",
        "colab_type": "text"
      },
      "source": [
        "**Layers**"
      ]
    },
    {
      "cell_type": "code",
      "metadata": {
        "id": "_EA3JKlBcfIZ",
        "colab_type": "code",
        "colab": {}
      },
      "source": [
        "model = keras.Sequential([\n",
        "                          keras.layers.Flatten(input_shape = (28, 28)),\n",
        "                          keras.layers.Dense(128, activation='relu'), \n",
        "                                             #kernel_regularizer=tf.keras.regularizers.l2(0.001)), \n",
        "                                             #activity_regularizer=tf.keras.regularizers.l2(0.01)),\n",
        "                          keras.layers.Dropout(0.2),\n",
        "                          keras.layers.Dense(10, activation='softmax')\n",
        "])"
      ],
      "execution_count": 0,
      "outputs": []
    },
    {
      "cell_type": "markdown",
      "metadata": {
        "id": "T7wjlHsjjtIW",
        "colab_type": "text"
      },
      "source": [
        "**Model** **Compilation**"
      ]
    },
    {
      "cell_type": "code",
      "metadata": {
        "id": "BkvhYtmTkMko",
        "colab_type": "code",
        "colab": {}
      },
      "source": [
        "model.compile(optimizer='adam',\n",
        "              loss='sparse_categorical_crossentropy',\n",
        "              metrics=['accuracy'])"
      ],
      "execution_count": 0,
      "outputs": []
    },
    {
      "cell_type": "markdown",
      "metadata": {
        "id": "Aw9TtTgxks9X",
        "colab_type": "text"
      },
      "source": [
        "# Train **Model**"
      ]
    },
    {
      "cell_type": "markdown",
      "metadata": {
        "id": "ZBK9u0Qcl0Ao",
        "colab_type": "text"
      },
      "source": [
        "**Train**"
      ]
    },
    {
      "cell_type": "code",
      "metadata": {
        "id": "eCWybacSkvct",
        "colab_type": "code",
        "colab": {}
      },
      "source": [
        "model.fit(train_images, train_labels, epochs=20)"
      ],
      "execution_count": 0,
      "outputs": []
    },
    {
      "cell_type": "markdown",
      "metadata": {
        "id": "MgAIEsizl2SX",
        "colab_type": "text"
      },
      "source": [
        "**Evaluate**"
      ]
    },
    {
      "cell_type": "code",
      "metadata": {
        "id": "WwSioNFGl3xU",
        "colab_type": "code",
        "colab": {}
      },
      "source": [
        "test_loss, test_acc = model.evaluate(test_images, test_labels)\n",
        "print('\\nTest Accuracy = ', test_acc)"
      ],
      "execution_count": 0,
      "outputs": []
    },
    {
      "cell_type": "markdown",
      "metadata": {
        "id": "peBJ18bxmjK2",
        "colab_type": "text"
      },
      "source": [
        "# **Predict**"
      ]
    },
    {
      "cell_type": "code",
      "metadata": {
        "id": "UmJY1Q_immez",
        "colab_type": "code",
        "colab": {}
      },
      "source": [
        "predictions = model.predict(test_images)"
      ],
      "execution_count": 0,
      "outputs": []
    },
    {
      "cell_type": "code",
      "metadata": {
        "id": "ekZYgSGunCms",
        "colab_type": "code",
        "colab": {}
      },
      "source": [
        "predictions[10]"
      ],
      "execution_count": 0,
      "outputs": []
    },
    {
      "cell_type": "code",
      "metadata": {
        "id": "Y4y6EdRTnGS0",
        "colab_type": "code",
        "colab": {}
      },
      "source": [
        "np.argmax(predictions[10])"
      ],
      "execution_count": 0,
      "outputs": []
    },
    {
      "cell_type": "code",
      "metadata": {
        "id": "LUs8gxW7nSr7",
        "colab_type": "code",
        "colab": {}
      },
      "source": [
        "test_labels[10]"
      ],
      "execution_count": 0,
      "outputs": []
    },
    {
      "cell_type": "markdown",
      "metadata": {
        "id": "09VFYqPIowgg",
        "colab_type": "text"
      },
      "source": [
        "**Add** image and **Predict**"
      ]
    },
    {
      "cell_type": "code",
      "metadata": {
        "id": "K8eDed44ngGL",
        "colab_type": "code",
        "colab": {}
      },
      "source": [
        "i=100\n",
        "img = test_images[i]\n",
        "print(img.shape)"
      ],
      "execution_count": 0,
      "outputs": []
    },
    {
      "cell_type": "code",
      "metadata": {
        "id": "ny8R5E2Ao-nT",
        "colab_type": "code",
        "colab": {}
      },
      "source": [
        "#create batch of the image only\n",
        "img = np.expand_dims(img,0)\n",
        "print(img.shape)"
      ],
      "execution_count": 0,
      "outputs": []
    },
    {
      "cell_type": "code",
      "metadata": {
        "id": "by3m_qkhpQJz",
        "colab_type": "code",
        "colab": {}
      },
      "source": [
        "prediction_single = model.predict(img)\n",
        "print(np.argmax(prediction_single))"
      ],
      "execution_count": 0,
      "outputs": []
    },
    {
      "cell_type": "code",
      "metadata": {
        "id": "oTSbzEAIplm7",
        "colab_type": "code",
        "colab": {}
      },
      "source": [
        "test_labels[i]"
      ],
      "execution_count": 0,
      "outputs": []
    }
  ]
}